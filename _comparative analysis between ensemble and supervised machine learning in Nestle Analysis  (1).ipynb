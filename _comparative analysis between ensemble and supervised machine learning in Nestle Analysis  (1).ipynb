{
 "cells": [
  {
   "cell_type": "code",
   "execution_count": 1,
   "id": "ce6f3a52",
   "metadata": {},
   "outputs": [],
   "source": [
    "# importing dependencies\n",
    "import numpy as np\n",
    "import pandas as pd\n",
    "import matplotlib.pyplot as plt\n",
    "import seaborn as sb\n",
    "from sklearn.linear_model import LogisticRegression\n",
    "from sklearn.neighbors import KNeighborsClassifier"
   ]
  },
  {
   "cell_type": "code",
   "execution_count": 2,
   "id": "edda8b64",
   "metadata": {},
   "outputs": [],
   "source": [
    "# reading the excel file\n",
    "df = pd.read_excel(\"NESTLE DATASET.xlsx\")"
   ]
  },
  {
   "cell_type": "code",
   "execution_count": 3,
   "id": "2a946876",
   "metadata": {},
   "outputs": [
    {
     "data": {
      "text/html": [
       "<div>\n",
       "<style scoped>\n",
       "    .dataframe tbody tr th:only-of-type {\n",
       "        vertical-align: middle;\n",
       "    }\n",
       "\n",
       "    .dataframe tbody tr th {\n",
       "        vertical-align: top;\n",
       "    }\n",
       "\n",
       "    .dataframe thead th {\n",
       "        text-align: right;\n",
       "    }\n",
       "</style>\n",
       "<table border=\"1\" class=\"dataframe\">\n",
       "  <thead>\n",
       "    <tr style=\"text-align: right;\">\n",
       "      <th></th>\n",
       "      <th>Unnamed: 0</th>\n",
       "      <th>Sales ID</th>\n",
       "      <th>Date</th>\n",
       "      <th>Product Name</th>\n",
       "      <th>Total Revenue</th>\n",
       "      <th>Sales Location</th>\n",
       "      <th>Sales Medium</th>\n",
       "      <th>Sales count</th>\n",
       "      <th>Product Count</th>\n",
       "    </tr>\n",
       "  </thead>\n",
       "  <tbody>\n",
       "    <tr>\n",
       "      <th>0</th>\n",
       "      <td>NaN</td>\n",
       "      <td>AT-18056</td>\n",
       "      <td>2020-06-07 00:00:00</td>\n",
       "      <td>Nescafe</td>\n",
       "      <td>279.3</td>\n",
       "      <td>Australian Capital Territory</td>\n",
       "      <td>Online</td>\n",
       "      <td>1</td>\n",
       "      <td>1</td>\n",
       "    </tr>\n",
       "    <tr>\n",
       "      <th>1</th>\n",
       "      <td>NaN</td>\n",
       "      <td>AT-9867</td>\n",
       "      <td>2019-05-14 00:00:00</td>\n",
       "      <td>Nescafe</td>\n",
       "      <td>263.46</td>\n",
       "      <td>Australian Capital Territory</td>\n",
       "      <td>Direct</td>\n",
       "      <td>1</td>\n",
       "      <td>1</td>\n",
       "    </tr>\n",
       "    <tr>\n",
       "      <th>2</th>\n",
       "      <td>NaN</td>\n",
       "      <td>AT-11225</td>\n",
       "      <td>2019-07-07 00:00:00</td>\n",
       "      <td>Nescafe</td>\n",
       "      <td>258.72</td>\n",
       "      <td>Australian Capital Territory</td>\n",
       "      <td>Online</td>\n",
       "      <td>1</td>\n",
       "      <td>1</td>\n",
       "    </tr>\n",
       "    <tr>\n",
       "      <th>3</th>\n",
       "      <td>NaN</td>\n",
       "      <td>AT-3208</td>\n",
       "      <td>2018-06-25 00:00:00</td>\n",
       "      <td>Nescafe</td>\n",
       "      <td>236.88</td>\n",
       "      <td>Australian Capital Territory</td>\n",
       "      <td>Online</td>\n",
       "      <td>1</td>\n",
       "      <td>1</td>\n",
       "    </tr>\n",
       "    <tr>\n",
       "      <th>4</th>\n",
       "      <td>NaN</td>\n",
       "      <td>AT-18812</td>\n",
       "      <td>2020-07-04 00:00:00</td>\n",
       "      <td>Nescafe</td>\n",
       "      <td>235.2</td>\n",
       "      <td>Australian Capital Territory</td>\n",
       "      <td>Online</td>\n",
       "      <td>1</td>\n",
       "      <td>1</td>\n",
       "    </tr>\n",
       "    <tr>\n",
       "      <th>5</th>\n",
       "      <td>NaN</td>\n",
       "      <td>AT-20812</td>\n",
       "      <td>2020-09-16 00:00:00</td>\n",
       "      <td>Nescafe</td>\n",
       "      <td>230.91</td>\n",
       "      <td>Australian Capital Territory</td>\n",
       "      <td>Online</td>\n",
       "      <td>1</td>\n",
       "      <td>1</td>\n",
       "    </tr>\n",
       "    <tr>\n",
       "      <th>6</th>\n",
       "      <td>NaN</td>\n",
       "      <td>AT-2937</td>\n",
       "      <td>2018-06-15 00:00:00</td>\n",
       "      <td>Nescafe</td>\n",
       "      <td>227.09</td>\n",
       "      <td>Australian Capital Territory</td>\n",
       "      <td>Direct</td>\n",
       "      <td>1</td>\n",
       "      <td>1</td>\n",
       "    </tr>\n",
       "    <tr>\n",
       "      <th>7</th>\n",
       "      <td>NaN</td>\n",
       "      <td>AT-306</td>\n",
       "      <td>2018-01-26 00:00:00</td>\n",
       "      <td>Nescafe</td>\n",
       "      <td>223.65</td>\n",
       "      <td>Australian Capital Territory</td>\n",
       "      <td>Direct</td>\n",
       "      <td>1</td>\n",
       "      <td>1</td>\n",
       "    </tr>\n",
       "    <tr>\n",
       "      <th>8</th>\n",
       "      <td>NaN</td>\n",
       "      <td>AT-3855</td>\n",
       "      <td>2018-07-18 00:00:00</td>\n",
       "      <td>Nescafe</td>\n",
       "      <td>223.65</td>\n",
       "      <td>Australian Capital Territory</td>\n",
       "      <td>Direct</td>\n",
       "      <td>1</td>\n",
       "      <td>1</td>\n",
       "    </tr>\n",
       "    <tr>\n",
       "      <th>9</th>\n",
       "      <td>NaN</td>\n",
       "      <td>AT-22548</td>\n",
       "      <td>2020-11-16 00:00:00</td>\n",
       "      <td>Nescafe</td>\n",
       "      <td>212.91</td>\n",
       "      <td>Australian Capital Territory</td>\n",
       "      <td>Direct</td>\n",
       "      <td>1</td>\n",
       "      <td>1</td>\n",
       "    </tr>\n",
       "    <tr>\n",
       "      <th>10</th>\n",
       "      <td>NaN</td>\n",
       "      <td>AT-2259</td>\n",
       "      <td>2018-05-17 00:00:00</td>\n",
       "      <td>Nescafe</td>\n",
       "      <td>209.88</td>\n",
       "      <td>Australian Capital Territory</td>\n",
       "      <td>Direct</td>\n",
       "      <td>1</td>\n",
       "      <td>1</td>\n",
       "    </tr>\n",
       "    <tr>\n",
       "      <th>11</th>\n",
       "      <td>NaN</td>\n",
       "      <td>AT-22319</td>\n",
       "      <td>2020-11-09 00:00:00</td>\n",
       "      <td>Nescafe</td>\n",
       "      <td>209.48</td>\n",
       "      <td>Australian Capital Territory</td>\n",
       "      <td>Online</td>\n",
       "      <td>1</td>\n",
       "      <td>1</td>\n",
       "    </tr>\n",
       "    <tr>\n",
       "      <th>12</th>\n",
       "      <td>NaN</td>\n",
       "      <td>AT-15018</td>\n",
       "      <td>2019-11-21 00:00:00</td>\n",
       "      <td>Nescafe</td>\n",
       "      <td>200.98</td>\n",
       "      <td>Australian Capital Territory</td>\n",
       "      <td>Direct</td>\n",
       "      <td>1</td>\n",
       "      <td>1</td>\n",
       "    </tr>\n",
       "    <tr>\n",
       "      <th>13</th>\n",
       "      <td>NaN</td>\n",
       "      <td>AT-14251</td>\n",
       "      <td>2019-10-26 00:00:00</td>\n",
       "      <td>Nescafe</td>\n",
       "      <td>200.66</td>\n",
       "      <td>Australian Capital Territory</td>\n",
       "      <td>Online</td>\n",
       "      <td>1</td>\n",
       "      <td>1</td>\n",
       "    </tr>\n",
       "    <tr>\n",
       "      <th>14</th>\n",
       "      <td>NaN</td>\n",
       "      <td>AT-13493</td>\n",
       "      <td>2019-09-29 00:00:00</td>\n",
       "      <td>Nescafe</td>\n",
       "      <td>188.16</td>\n",
       "      <td>Australian Capital Territory</td>\n",
       "      <td>Online</td>\n",
       "      <td>1</td>\n",
       "      <td>1</td>\n",
       "    </tr>\n",
       "  </tbody>\n",
       "</table>\n",
       "</div>"
      ],
      "text/plain": [
       "    Unnamed: 0  Sales ID                 Date Product Name Total Revenue  \\\n",
       "0          NaN  AT-18056  2020-06-07 00:00:00      Nescafe         279.3   \n",
       "1          NaN   AT-9867  2019-05-14 00:00:00      Nescafe        263.46   \n",
       "2          NaN  AT-11225  2019-07-07 00:00:00      Nescafe        258.72   \n",
       "3          NaN   AT-3208  2018-06-25 00:00:00      Nescafe        236.88   \n",
       "4          NaN  AT-18812  2020-07-04 00:00:00      Nescafe         235.2   \n",
       "5          NaN  AT-20812  2020-09-16 00:00:00      Nescafe        230.91   \n",
       "6          NaN   AT-2937  2018-06-15 00:00:00      Nescafe        227.09   \n",
       "7          NaN    AT-306  2018-01-26 00:00:00      Nescafe        223.65   \n",
       "8          NaN   AT-3855  2018-07-18 00:00:00      Nescafe        223.65   \n",
       "9          NaN  AT-22548  2020-11-16 00:00:00      Nescafe        212.91   \n",
       "10         NaN   AT-2259  2018-05-17 00:00:00      Nescafe        209.88   \n",
       "11         NaN  AT-22319  2020-11-09 00:00:00      Nescafe        209.48   \n",
       "12         NaN  AT-15018  2019-11-21 00:00:00      Nescafe        200.98   \n",
       "13         NaN  AT-14251  2019-10-26 00:00:00      Nescafe        200.66   \n",
       "14         NaN  AT-13493  2019-09-29 00:00:00      Nescafe        188.16   \n",
       "\n",
       "                  Sales Location Sales Medium Sales count Product Count  \n",
       "0   Australian Capital Territory       Online           1             1  \n",
       "1   Australian Capital Territory       Direct           1             1  \n",
       "2   Australian Capital Territory       Online           1             1  \n",
       "3   Australian Capital Territory       Online           1             1  \n",
       "4   Australian Capital Territory       Online           1             1  \n",
       "5   Australian Capital Territory       Online           1             1  \n",
       "6   Australian Capital Territory       Direct           1             1  \n",
       "7   Australian Capital Territory       Direct           1             1  \n",
       "8   Australian Capital Territory       Direct           1             1  \n",
       "9   Australian Capital Territory       Direct           1             1  \n",
       "10  Australian Capital Territory       Direct           1             1  \n",
       "11  Australian Capital Territory       Online           1             1  \n",
       "12  Australian Capital Territory       Direct           1             1  \n",
       "13  Australian Capital Territory       Online           1             1  \n",
       "14  Australian Capital Territory       Online           1             1  "
      ]
     },
     "execution_count": 3,
     "metadata": {},
     "output_type": "execute_result"
    }
   ],
   "source": [
    "#checking the dataset\n",
    "data = {\n",
    "    \"Unnamed: 1\": \"Sales ID\",\n",
    "    \"Unnamed: 2\": \"Date\",\n",
    "    \"Unnamed: 3\": \"Product Name\",\n",
    "    \"Unnamed: 4\": \"Total Revenue\",\n",
    "    \"Unnamed: 5\": \"Sales Location\",\n",
    "    \"Unnamed: 6\": \"Sales Medium\",\n",
    "    \"Unnamed: 7\": \"Sales count\",\n",
    "    \"Unnamed: 8\": \"Product Count\"\n",
    "}\n",
    "\n",
    "# Rename the columns using the mapping defined in the 'data' dictionary\n",
    "df.rename(columns=data, inplace=True)\n",
    "\n",
    "# Drop the first row (which appears to be headers)\n",
    "df = df.drop(0)\n",
    "\n",
    "# Reset the DataFrame index\n",
    "df = df.reset_index(drop=True)\n",
    "\n",
    "df.head(15)"
   ]
  },
  {
   "cell_type": "code",
   "execution_count": 4,
   "id": "ffcd11ff",
   "metadata": {},
   "outputs": [
    {
     "data": {
      "text/plain": [
       "(18115, 9)"
      ]
     },
     "execution_count": 4,
     "metadata": {},
     "output_type": "execute_result"
    }
   ],
   "source": [
    "# check the number of rows and columns\n",
    "df.shape"
   ]
  },
  {
   "cell_type": "code",
   "execution_count": 5,
   "id": "e84b4d81",
   "metadata": {},
   "outputs": [
    {
     "data": {
      "text/plain": [
       "array([nan])"
      ]
     },
     "execution_count": 5,
     "metadata": {},
     "output_type": "execute_result"
    }
   ],
   "source": [
    "df[\"Unnamed: 0\"].unique()  # wanted to confirm if there are other values apart from nan values"
   ]
  },
  {
   "cell_type": "code",
   "execution_count": 6,
   "id": "08cb70dd",
   "metadata": {},
   "outputs": [
    {
     "data": {
      "text/html": [
       "<div>\n",
       "<style scoped>\n",
       "    .dataframe tbody tr th:only-of-type {\n",
       "        vertical-align: middle;\n",
       "    }\n",
       "\n",
       "    .dataframe tbody tr th {\n",
       "        vertical-align: top;\n",
       "    }\n",
       "\n",
       "    .dataframe thead th {\n",
       "        text-align: right;\n",
       "    }\n",
       "</style>\n",
       "<table border=\"1\" class=\"dataframe\">\n",
       "  <thead>\n",
       "    <tr style=\"text-align: right;\">\n",
       "      <th></th>\n",
       "      <th>Sales ID</th>\n",
       "      <th>Date</th>\n",
       "      <th>Product Name</th>\n",
       "      <th>Total Revenue</th>\n",
       "      <th>Sales Location</th>\n",
       "      <th>Sales Medium</th>\n",
       "      <th>Sales count</th>\n",
       "      <th>Product Count</th>\n",
       "    </tr>\n",
       "  </thead>\n",
       "  <tbody>\n",
       "    <tr>\n",
       "      <th>0</th>\n",
       "      <td>AT-18056</td>\n",
       "      <td>2020-06-07 00:00:00</td>\n",
       "      <td>Nescafe</td>\n",
       "      <td>279.3</td>\n",
       "      <td>Australian Capital Territory</td>\n",
       "      <td>Online</td>\n",
       "      <td>1</td>\n",
       "      <td>1</td>\n",
       "    </tr>\n",
       "    <tr>\n",
       "      <th>1</th>\n",
       "      <td>AT-9867</td>\n",
       "      <td>2019-05-14 00:00:00</td>\n",
       "      <td>Nescafe</td>\n",
       "      <td>263.46</td>\n",
       "      <td>Australian Capital Territory</td>\n",
       "      <td>Direct</td>\n",
       "      <td>1</td>\n",
       "      <td>1</td>\n",
       "    </tr>\n",
       "    <tr>\n",
       "      <th>2</th>\n",
       "      <td>AT-11225</td>\n",
       "      <td>2019-07-07 00:00:00</td>\n",
       "      <td>Nescafe</td>\n",
       "      <td>258.72</td>\n",
       "      <td>Australian Capital Territory</td>\n",
       "      <td>Online</td>\n",
       "      <td>1</td>\n",
       "      <td>1</td>\n",
       "    </tr>\n",
       "    <tr>\n",
       "      <th>3</th>\n",
       "      <td>AT-3208</td>\n",
       "      <td>2018-06-25 00:00:00</td>\n",
       "      <td>Nescafe</td>\n",
       "      <td>236.88</td>\n",
       "      <td>Australian Capital Territory</td>\n",
       "      <td>Online</td>\n",
       "      <td>1</td>\n",
       "      <td>1</td>\n",
       "    </tr>\n",
       "    <tr>\n",
       "      <th>4</th>\n",
       "      <td>AT-18812</td>\n",
       "      <td>2020-07-04 00:00:00</td>\n",
       "      <td>Nescafe</td>\n",
       "      <td>235.2</td>\n",
       "      <td>Australian Capital Territory</td>\n",
       "      <td>Online</td>\n",
       "      <td>1</td>\n",
       "      <td>1</td>\n",
       "    </tr>\n",
       "  </tbody>\n",
       "</table>\n",
       "</div>"
      ],
      "text/plain": [
       "   Sales ID                 Date Product Name Total Revenue  \\\n",
       "0  AT-18056  2020-06-07 00:00:00      Nescafe         279.3   \n",
       "1   AT-9867  2019-05-14 00:00:00      Nescafe        263.46   \n",
       "2  AT-11225  2019-07-07 00:00:00      Nescafe        258.72   \n",
       "3   AT-3208  2018-06-25 00:00:00      Nescafe        236.88   \n",
       "4  AT-18812  2020-07-04 00:00:00      Nescafe         235.2   \n",
       "\n",
       "                 Sales Location Sales Medium Sales count Product Count  \n",
       "0  Australian Capital Territory       Online           1             1  \n",
       "1  Australian Capital Territory       Direct           1             1  \n",
       "2  Australian Capital Territory       Online           1             1  \n",
       "3  Australian Capital Territory       Online           1             1  \n",
       "4  Australian Capital Territory       Online           1             1  "
      ]
     },
     "execution_count": 6,
     "metadata": {},
     "output_type": "execute_result"
    }
   ],
   "source": [
    "df = df.drop([\"Unnamed: 0\"] , axis = 1)\n",
    "df.head(5)"
   ]
  },
  {
   "cell_type": "code",
   "execution_count": 7,
   "id": "606c950b",
   "metadata": {},
   "outputs": [
    {
     "name": "stdout",
     "output_type": "stream",
     "text": [
      "<class 'pandas.core.frame.DataFrame'>\n",
      "RangeIndex: 18115 entries, 0 to 18114\n",
      "Data columns (total 8 columns):\n",
      " #   Column          Non-Null Count  Dtype \n",
      "---  ------          --------------  ----- \n",
      " 0   Sales ID        18115 non-null  object\n",
      " 1   Date            18115 non-null  object\n",
      " 2   Product Name    18115 non-null  object\n",
      " 3   Total Revenue   18115 non-null  object\n",
      " 4   Sales Location  18115 non-null  object\n",
      " 5   Sales Medium    18115 non-null  object\n",
      " 6   Sales count     18115 non-null  object\n",
      " 7   Product Count   18115 non-null  object\n",
      "dtypes: object(8)\n",
      "memory usage: 1.1+ MB\n"
     ]
    }
   ],
   "source": [
    "df.info()  # we can also see for null_values"
   ]
  },
  {
   "cell_type": "code",
   "execution_count": 8,
   "id": "98cf926a",
   "metadata": {},
   "outputs": [
    {
     "data": {
      "text/html": [
       "<div>\n",
       "<style scoped>\n",
       "    .dataframe tbody tr th:only-of-type {\n",
       "        vertical-align: middle;\n",
       "    }\n",
       "\n",
       "    .dataframe tbody tr th {\n",
       "        vertical-align: top;\n",
       "    }\n",
       "\n",
       "    .dataframe thead th {\n",
       "        text-align: right;\n",
       "    }\n",
       "</style>\n",
       "<table border=\"1\" class=\"dataframe\">\n",
       "  <thead>\n",
       "    <tr style=\"text-align: right;\">\n",
       "      <th></th>\n",
       "      <th>count</th>\n",
       "      <th>unique</th>\n",
       "      <th>top</th>\n",
       "      <th>freq</th>\n",
       "    </tr>\n",
       "  </thead>\n",
       "  <tbody>\n",
       "    <tr>\n",
       "      <th>Sales ID</th>\n",
       "      <td>18115</td>\n",
       "      <td>18115</td>\n",
       "      <td>AT-18056</td>\n",
       "      <td>1</td>\n",
       "    </tr>\n",
       "    <tr>\n",
       "      <th>Date</th>\n",
       "      <td>18115</td>\n",
       "      <td>1006</td>\n",
       "      <td>2018-01-01 00:00:00</td>\n",
       "      <td>98</td>\n",
       "    </tr>\n",
       "    <tr>\n",
       "      <th>Product Name</th>\n",
       "      <td>18115</td>\n",
       "      <td>9</td>\n",
       "      <td>Nescafe</td>\n",
       "      <td>6368</td>\n",
       "    </tr>\n",
       "    <tr>\n",
       "      <th>Total Revenue</th>\n",
       "      <td>18115.0</td>\n",
       "      <td>2789.0</td>\n",
       "      <td>498.27</td>\n",
       "      <td>161.0</td>\n",
       "    </tr>\n",
       "    <tr>\n",
       "      <th>Sales Location</th>\n",
       "      <td>18115</td>\n",
       "      <td>8</td>\n",
       "      <td>Tasmania</td>\n",
       "      <td>3187</td>\n",
       "    </tr>\n",
       "    <tr>\n",
       "      <th>Sales Medium</th>\n",
       "      <td>18115</td>\n",
       "      <td>2</td>\n",
       "      <td>Direct</td>\n",
       "      <td>11152</td>\n",
       "    </tr>\n",
       "    <tr>\n",
       "      <th>Sales count</th>\n",
       "      <td>18115</td>\n",
       "      <td>1</td>\n",
       "      <td>1</td>\n",
       "      <td>18115</td>\n",
       "    </tr>\n",
       "    <tr>\n",
       "      <th>Product Count</th>\n",
       "      <td>18115</td>\n",
       "      <td>1</td>\n",
       "      <td>1</td>\n",
       "      <td>18115</td>\n",
       "    </tr>\n",
       "  </tbody>\n",
       "</table>\n",
       "</div>"
      ],
      "text/plain": [
       "                  count  unique                  top   freq\n",
       "Sales ID          18115   18115             AT-18056      1\n",
       "Date              18115    1006  2018-01-01 00:00:00     98\n",
       "Product Name      18115       9              Nescafe   6368\n",
       "Total Revenue   18115.0  2789.0               498.27  161.0\n",
       "Sales Location    18115       8             Tasmania   3187\n",
       "Sales Medium      18115       2               Direct  11152\n",
       "Sales count       18115       1                    1  18115\n",
       "Product Count     18115       1                    1  18115"
      ]
     },
     "execution_count": 8,
     "metadata": {},
     "output_type": "execute_result"
    }
   ],
   "source": [
    "df.describe().transpose()"
   ]
  },
  {
   "cell_type": "code",
   "execution_count": 9,
   "id": "160780e2",
   "metadata": {},
   "outputs": [],
   "source": [
    "# changing the type of date\n",
    "df.Date = pd.to_datetime(df[\"Date\"])"
   ]
  },
  {
   "cell_type": "code",
   "execution_count": 10,
   "id": "b09adad4",
   "metadata": {},
   "outputs": [
    {
     "data": {
      "text/plain": [
       "Sales ID                  object\n",
       "Date              datetime64[ns]\n",
       "Product Name              object\n",
       "Total Revenue             object\n",
       "Sales Location            object\n",
       "Sales Medium              object\n",
       "Sales count               object\n",
       "Product Count             object\n",
       "dtype: object"
      ]
     },
     "execution_count": 10,
     "metadata": {},
     "output_type": "execute_result"
    }
   ],
   "source": [
    "df.dtypes"
   ]
  },
  {
   "cell_type": "code",
   "execution_count": 11,
   "id": "24e74800",
   "metadata": {},
   "outputs": [
    {
     "data": {
      "text/html": [
       "<div>\n",
       "<style scoped>\n",
       "    .dataframe tbody tr th:only-of-type {\n",
       "        vertical-align: middle;\n",
       "    }\n",
       "\n",
       "    .dataframe tbody tr th {\n",
       "        vertical-align: top;\n",
       "    }\n",
       "\n",
       "    .dataframe thead th {\n",
       "        text-align: right;\n",
       "    }\n",
       "</style>\n",
       "<table border=\"1\" class=\"dataframe\">\n",
       "  <thead>\n",
       "    <tr style=\"text-align: right;\">\n",
       "      <th></th>\n",
       "      <th>Sales ID</th>\n",
       "      <th>Date</th>\n",
       "      <th>Product Name</th>\n",
       "      <th>Total Revenue</th>\n",
       "      <th>Sales Location</th>\n",
       "      <th>Sales Medium</th>\n",
       "      <th>Sales count</th>\n",
       "      <th>Product Count</th>\n",
       "    </tr>\n",
       "  </thead>\n",
       "  <tbody>\n",
       "    <tr>\n",
       "      <th>0</th>\n",
       "      <td>AT-18056</td>\n",
       "      <td>2020-06-07</td>\n",
       "      <td>Nescafe</td>\n",
       "      <td>279.3</td>\n",
       "      <td>Australian Capital Territory</td>\n",
       "      <td>Online</td>\n",
       "      <td>1</td>\n",
       "      <td>1</td>\n",
       "    </tr>\n",
       "    <tr>\n",
       "      <th>1</th>\n",
       "      <td>AT-9867</td>\n",
       "      <td>2019-05-14</td>\n",
       "      <td>Nescafe</td>\n",
       "      <td>263.46</td>\n",
       "      <td>Australian Capital Territory</td>\n",
       "      <td>Direct</td>\n",
       "      <td>1</td>\n",
       "      <td>1</td>\n",
       "    </tr>\n",
       "    <tr>\n",
       "      <th>2</th>\n",
       "      <td>AT-11225</td>\n",
       "      <td>2019-07-07</td>\n",
       "      <td>Nescafe</td>\n",
       "      <td>258.72</td>\n",
       "      <td>Australian Capital Territory</td>\n",
       "      <td>Online</td>\n",
       "      <td>1</td>\n",
       "      <td>1</td>\n",
       "    </tr>\n",
       "    <tr>\n",
       "      <th>3</th>\n",
       "      <td>AT-3208</td>\n",
       "      <td>2018-06-25</td>\n",
       "      <td>Nescafe</td>\n",
       "      <td>236.88</td>\n",
       "      <td>Australian Capital Territory</td>\n",
       "      <td>Online</td>\n",
       "      <td>1</td>\n",
       "      <td>1</td>\n",
       "    </tr>\n",
       "    <tr>\n",
       "      <th>4</th>\n",
       "      <td>AT-18812</td>\n",
       "      <td>2020-07-04</td>\n",
       "      <td>Nescafe</td>\n",
       "      <td>235.2</td>\n",
       "      <td>Australian Capital Territory</td>\n",
       "      <td>Online</td>\n",
       "      <td>1</td>\n",
       "      <td>1</td>\n",
       "    </tr>\n",
       "  </tbody>\n",
       "</table>\n",
       "</div>"
      ],
      "text/plain": [
       "   Sales ID       Date Product Name Total Revenue  \\\n",
       "0  AT-18056 2020-06-07      Nescafe         279.3   \n",
       "1   AT-9867 2019-05-14      Nescafe        263.46   \n",
       "2  AT-11225 2019-07-07      Nescafe        258.72   \n",
       "3   AT-3208 2018-06-25      Nescafe        236.88   \n",
       "4  AT-18812 2020-07-04      Nescafe         235.2   \n",
       "\n",
       "                 Sales Location Sales Medium Sales count Product Count  \n",
       "0  Australian Capital Territory       Online           1             1  \n",
       "1  Australian Capital Territory       Direct           1             1  \n",
       "2  Australian Capital Territory       Online           1             1  \n",
       "3  Australian Capital Territory       Online           1             1  \n",
       "4  Australian Capital Territory       Online           1             1  "
      ]
     },
     "execution_count": 11,
     "metadata": {},
     "output_type": "execute_result"
    }
   ],
   "source": [
    "df.head(5)  # checking to besure the code worked on the datetime"
   ]
  },
  {
   "cell_type": "code",
   "execution_count": 12,
   "id": "8b32d064",
   "metadata": {},
   "outputs": [
    {
     "data": {
      "text/plain": [
       "Nescafe             6368\n",
       "Nestle Drumstick    2028\n",
       "Kit Kat             1978\n",
       "Milo                1619\n",
       "Maggi               1555\n",
       "Nes Cau             1457\n",
       "Nescafe Gold        1299\n",
       "Nesquik Duo         1014\n",
       "Smarties             797\n",
       "Name: Product Name, dtype: int64"
      ]
     },
     "execution_count": 12,
     "metadata": {},
     "output_type": "execute_result"
    }
   ],
   "source": [
    "df[\"Product Name\"].value_counts()"
   ]
  },
  {
   "cell_type": "code",
   "execution_count": 13,
   "id": "a91c7bff",
   "metadata": {},
   "outputs": [
    {
     "data": {
      "text/plain": [
       "Direct    11152\n",
       "Online     6963\n",
       "Name: Sales Medium, dtype: int64"
      ]
     },
     "execution_count": 13,
     "metadata": {},
     "output_type": "execute_result"
    }
   ],
   "source": [
    "df[\"Sales Medium\"].value_counts()"
   ]
  },
  {
   "cell_type": "markdown",
   "id": "a166a03e",
   "metadata": {},
   "source": [
    "## EDA"
   ]
  },
  {
   "cell_type": "markdown",
   "id": "c1e7e205",
   "metadata": {},
   "source": [
    "####  I could have trimmed the data to within the range 5000-8000 but i decided to use all the dataset"
   ]
  },
  {
   "cell_type": "code",
   "execution_count": 14,
   "id": "220cc1d8",
   "metadata": {},
   "outputs": [
    {
     "data": {
      "image/png": "[encoded data removed]",
      "text/plain": [
       "<Figure size 864x432 with 1 Axes>"
      ]
     },
     "metadata": {
      "needs_background": "light"
     },
     "output_type": "display_data"
    }
   ],
   "source": [
    "# Create a line chart for Total Revenue over time\n",
    "plt.figure(figsize=(12, 6))\n",
    "sb.lineplot(data=df, x='Date', y='Total Revenue')\n",
    "plt.title('Total Revenue Over Time')\n",
    "plt.xlabel('Date')\n",
    "plt.ylabel('Total Revenue')\n",
    "plt.xticks(rotation=45)\n",
    "plt.show()"
   ]
  },
  {
   "cell_type": "code",
   "execution_count": 15,
   "id": "736ba004",
   "metadata": {},
   "outputs": [
    {
     "data": {
      "image/png": "[encoded data removed]",
      "text/plain": [
       "<Figure size 864x432 with 1 Axes>"
      ]
     },
     "metadata": {
      "needs_background": "light"
     },
     "output_type": "display_data"
    }
   ],
   "source": [
    "plt.figure(figsize=(12, 6))\n",
    "sb.countplot(data=df, x='Product Name')\n",
    "plt.xticks(rotation=90)\n",
    "plt.title('Product Sales')\n",
    "plt.show()"
   ]
  },
  {
   "cell_type": "code",
   "execution_count": 16,
   "id": "eec8ab12",
   "metadata": {},
   "outputs": [
    {
     "data": {
      "image/png": "[encoded data removed]",
      "text/plain": [
       "<Figure size 576x576 with 1 Axes>"
      ]
     },
     "metadata": {},
     "output_type": "display_data"
    }
   ],
   "source": [
    "\n",
    "# Create a pie chart to visualize the share of product sales\n",
    "product_sales = df.groupby('Product Name')['Sales count'].sum()\n",
    "plt.figure(figsize=(8, 8))\n",
    "plt.pie(product_sales, labels=product_sales.index, autopct='%1.1f%%', startangle=140)\n",
    "plt.title('Product Sales Share')\n",
    "plt.show()"
   ]
  },
  {
   "cell_type": "code",
   "execution_count": 17,
   "id": "1b68d250",
   "metadata": {},
   "outputs": [],
   "source": [
    "df[\"Sales Medium\"] = df[\"Sales Medium\"].replace({\"Online\" : 1 , \"Direct\" : 0})"
   ]
  },
  {
   "cell_type": "code",
   "execution_count": 18,
   "id": "e1b8f34c",
   "metadata": {},
   "outputs": [
    {
     "data": {
      "text/html": [
       "<div>\n",
       "<style scoped>\n",
       "    .dataframe tbody tr th:only-of-type {\n",
       "        vertical-align: middle;\n",
       "    }\n",
       "\n",
       "    .dataframe tbody tr th {\n",
       "        vertical-align: top;\n",
       "    }\n",
       "\n",
       "    .dataframe thead th {\n",
       "        text-align: right;\n",
       "    }\n",
       "</style>\n",
       "<table border=\"1\" class=\"dataframe\">\n",
       "  <thead>\n",
       "    <tr style=\"text-align: right;\">\n",
       "      <th></th>\n",
       "      <th>Sales ID</th>\n",
       "      <th>Date</th>\n",
       "      <th>Product Name</th>\n",
       "      <th>Total Revenue</th>\n",
       "      <th>Sales Location</th>\n",
       "      <th>Sales Medium</th>\n",
       "      <th>Sales count</th>\n",
       "      <th>Product Count</th>\n",
       "    </tr>\n",
       "  </thead>\n",
       "  <tbody>\n",
       "    <tr>\n",
       "      <th>0</th>\n",
       "      <td>AT-18056</td>\n",
       "      <td>2020-06-07</td>\n",
       "      <td>Nescafe</td>\n",
       "      <td>279.3</td>\n",
       "      <td>Australian Capital Territory</td>\n",
       "      <td>1</td>\n",
       "      <td>1</td>\n",
       "      <td>1</td>\n",
       "    </tr>\n",
       "    <tr>\n",
       "      <th>1</th>\n",
       "      <td>AT-9867</td>\n",
       "      <td>2019-05-14</td>\n",
       "      <td>Nescafe</td>\n",
       "      <td>263.46</td>\n",
       "      <td>Australian Capital Territory</td>\n",
       "      <td>0</td>\n",
       "      <td>1</td>\n",
       "      <td>1</td>\n",
       "    </tr>\n",
       "    <tr>\n",
       "      <th>2</th>\n",
       "      <td>AT-11225</td>\n",
       "      <td>2019-07-07</td>\n",
       "      <td>Nescafe</td>\n",
       "      <td>258.72</td>\n",
       "      <td>Australian Capital Territory</td>\n",
       "      <td>1</td>\n",
       "      <td>1</td>\n",
       "      <td>1</td>\n",
       "    </tr>\n",
       "    <tr>\n",
       "      <th>3</th>\n",
       "      <td>AT-3208</td>\n",
       "      <td>2018-06-25</td>\n",
       "      <td>Nescafe</td>\n",
       "      <td>236.88</td>\n",
       "      <td>Australian Capital Territory</td>\n",
       "      <td>1</td>\n",
       "      <td>1</td>\n",
       "      <td>1</td>\n",
       "    </tr>\n",
       "    <tr>\n",
       "      <th>4</th>\n",
       "      <td>AT-18812</td>\n",
       "      <td>2020-07-04</td>\n",
       "      <td>Nescafe</td>\n",
       "      <td>235.2</td>\n",
       "      <td>Australian Capital Territory</td>\n",
       "      <td>1</td>\n",
       "      <td>1</td>\n",
       "      <td>1</td>\n",
       "    </tr>\n",
       "    <tr>\n",
       "      <th>...</th>\n",
       "      <td>...</td>\n",
       "      <td>...</td>\n",
       "      <td>...</td>\n",
       "      <td>...</td>\n",
       "      <td>...</td>\n",
       "      <td>...</td>\n",
       "      <td>...</td>\n",
       "      <td>...</td>\n",
       "    </tr>\n",
       "    <tr>\n",
       "      <th>145</th>\n",
       "      <td>AT-7802</td>\n",
       "      <td>2019-01-12</td>\n",
       "      <td>Milo</td>\n",
       "      <td>3195.05</td>\n",
       "      <td>Australian Capital Territory</td>\n",
       "      <td>0</td>\n",
       "      <td>1</td>\n",
       "      <td>1</td>\n",
       "    </tr>\n",
       "    <tr>\n",
       "      <th>146</th>\n",
       "      <td>AT-8863</td>\n",
       "      <td>2019-03-22</td>\n",
       "      <td>Milo</td>\n",
       "      <td>6085.8</td>\n",
       "      <td>Australian Capital Territory</td>\n",
       "      <td>0</td>\n",
       "      <td>1</td>\n",
       "      <td>1</td>\n",
       "    </tr>\n",
       "    <tr>\n",
       "      <th>147</th>\n",
       "      <td>AT-13544</td>\n",
       "      <td>2019-10-01</td>\n",
       "      <td>Milo</td>\n",
       "      <td>6085.8</td>\n",
       "      <td>Australian Capital Territory</td>\n",
       "      <td>0</td>\n",
       "      <td>1</td>\n",
       "      <td>1</td>\n",
       "    </tr>\n",
       "    <tr>\n",
       "      <th>148</th>\n",
       "      <td>AT-14438</td>\n",
       "      <td>2019-11-02</td>\n",
       "      <td>Milo</td>\n",
       "      <td>3499.34</td>\n",
       "      <td>Australian Capital Territory</td>\n",
       "      <td>0</td>\n",
       "      <td>1</td>\n",
       "      <td>1</td>\n",
       "    </tr>\n",
       "    <tr>\n",
       "      <th>149</th>\n",
       "      <td>AT-15578</td>\n",
       "      <td>2020-01-21</td>\n",
       "      <td>Milo</td>\n",
       "      <td>8748.34</td>\n",
       "      <td>Australian Capital Territory</td>\n",
       "      <td>0</td>\n",
       "      <td>1</td>\n",
       "      <td>1</td>\n",
       "    </tr>\n",
       "  </tbody>\n",
       "</table>\n",
       "<p>150 rows × 8 columns</p>\n",
       "</div>"
      ],
      "text/plain": [
       "     Sales ID       Date Product Name Total Revenue  \\\n",
       "0    AT-18056 2020-06-07      Nescafe         279.3   \n",
       "1     AT-9867 2019-05-14      Nescafe        263.46   \n",
       "2    AT-11225 2019-07-07      Nescafe        258.72   \n",
       "3     AT-3208 2018-06-25      Nescafe        236.88   \n",
       "4    AT-18812 2020-07-04      Nescafe         235.2   \n",
       "..        ...        ...          ...           ...   \n",
       "145   AT-7802 2019-01-12         Milo       3195.05   \n",
       "146   AT-8863 2019-03-22         Milo        6085.8   \n",
       "147  AT-13544 2019-10-01         Milo        6085.8   \n",
       "148  AT-14438 2019-11-02         Milo       3499.34   \n",
       "149  AT-15578 2020-01-21         Milo       8748.34   \n",
       "\n",
       "                   Sales Location  Sales Medium Sales count Product Count  \n",
       "0    Australian Capital Territory             1           1             1  \n",
       "1    Australian Capital Territory             0           1             1  \n",
       "2    Australian Capital Territory             1           1             1  \n",
       "3    Australian Capital Territory             1           1             1  \n",
       "4    Australian Capital Territory             1           1             1  \n",
       "..                            ...           ...         ...           ...  \n",
       "145  Australian Capital Territory             0           1             1  \n",
       "146  Australian Capital Territory             0           1             1  \n",
       "147  Australian Capital Territory             0           1             1  \n",
       "148  Australian Capital Territory             0           1             1  \n",
       "149  Australian Capital Territory             0           1             1  \n",
       "\n",
       "[150 rows x 8 columns]"
      ]
     },
     "execution_count": 18,
     "metadata": {},
     "output_type": "execute_result"
    }
   ],
   "source": [
    "df.head(150)"
   ]
  },
  {
   "cell_type": "code",
   "execution_count": 19,
   "id": "ab5a0ab6",
   "metadata": {},
   "outputs": [
    {
     "data": {
      "text/plain": [
       "array(['Australian Capital Territory', 'New South Wales',\n",
       "       'Northern Territory', 'Queensland', 'South Australia', 'Tasmania',\n",
       "       'Victoria', 'Western Australia'], dtype=object)"
      ]
     },
     "execution_count": 19,
     "metadata": {},
     "output_type": "execute_result"
    }
   ],
   "source": [
    "df[\"Sales Location\"].unique()"
   ]
  },
  {
   "cell_type": "markdown",
   "id": "5e18f38c",
   "metadata": {},
   "source": [
    "Here i changed the state of the sales location and product name\n",
    "\n",
    "-- You can use any method which i did below and we will see it gives the same result\n",
    "\n",
    "### which are:\n",
    "1) One Hot Encoder\n",
    "\n",
    "\n",
    "2) Changing it manually\n",
    "\n",
    "\n",
    "i will use the second method"
   ]
  },
  {
   "cell_type": "code",
   "execution_count": 20,
   "id": "645a1e2d",
   "metadata": {},
   "outputs": [],
   "source": [
    "df[\"Sales Location\"] = df[\"Sales Location\"].replace({\"Australian Capital Territory\" : 1 , \n",
    "                                               \"New South Wales\" : 2,\n",
    "                                               \"Northern Territory\" : 3 , \n",
    "                                               \"Queensland\" : 4,\n",
    "                                               \"South Australia\": 5   ,\n",
    "                                               \"Tasmania\" : 6,\n",
    "                                               \"Victoria\"  : 7,\n",
    "                                               \"Western Australia\" : 8\n",
    "                      })\n",
    "\n",
    "\n",
    "\n",
    "\n",
    "df[\"Product Name\"] = df[\"Product Name\"].replace({\"Nescafe\" : 1,\n",
    "                                                \"Maggi\" : 2,\n",
    "                                                \"Kit Kat\" : 3,\n",
    "                                                 \"Nescafe Gold\": 4,\n",
    "                                                 \"Nes Cau\" : 5,\n",
    "                                                 \"Milo\" : 6,\n",
    "                                                 \"Nestle Drumstick\" : 7,\n",
    "                                                 \"Smarties\" : 8,\n",
    "                                                 \"Nesquik Duo\" : 9\n",
    "                                                })"
   ]
  },
  {
   "cell_type": "code",
   "execution_count": 21,
   "id": "1f6f70ec",
   "metadata": {},
   "outputs": [
    {
     "data": {
      "text/plain": [
       "array([1, 2, 3, 4, 5, 6, 7, 8, 9], dtype=int64)"
      ]
     },
     "execution_count": 21,
     "metadata": {},
     "output_type": "execute_result"
    }
   ],
   "source": [
    "df[\"Product Name\"].unique()\n"
   ]
  },
  {
   "cell_type": "code",
   "execution_count": 22,
   "id": "98ad7fd6",
   "metadata": {},
   "outputs": [
    {
     "data": {
      "text/html": [
       "<div>\n",
       "<style scoped>\n",
       "    .dataframe tbody tr th:only-of-type {\n",
       "        vertical-align: middle;\n",
       "    }\n",
       "\n",
       "    .dataframe tbody tr th {\n",
       "        vertical-align: top;\n",
       "    }\n",
       "\n",
       "    .dataframe thead th {\n",
       "        text-align: right;\n",
       "    }\n",
       "</style>\n",
       "<table border=\"1\" class=\"dataframe\">\n",
       "  <thead>\n",
       "    <tr style=\"text-align: right;\">\n",
       "      <th></th>\n",
       "      <th>Sales ID</th>\n",
       "      <th>Date</th>\n",
       "      <th>Product Name</th>\n",
       "      <th>Total Revenue</th>\n",
       "      <th>Sales Location</th>\n",
       "      <th>Sales Medium</th>\n",
       "      <th>Sales count</th>\n",
       "      <th>Product Count</th>\n",
       "    </tr>\n",
       "  </thead>\n",
       "  <tbody>\n",
       "    <tr>\n",
       "      <th>0</th>\n",
       "      <td>AT-18056</td>\n",
       "      <td>2020-06-07</td>\n",
       "      <td>1</td>\n",
       "      <td>279.3</td>\n",
       "      <td>1</td>\n",
       "      <td>1</td>\n",
       "      <td>1</td>\n",
       "      <td>1</td>\n",
       "    </tr>\n",
       "    <tr>\n",
       "      <th>1</th>\n",
       "      <td>AT-9867</td>\n",
       "      <td>2019-05-14</td>\n",
       "      <td>1</td>\n",
       "      <td>263.46</td>\n",
       "      <td>1</td>\n",
       "      <td>0</td>\n",
       "      <td>1</td>\n",
       "      <td>1</td>\n",
       "    </tr>\n",
       "    <tr>\n",
       "      <th>2</th>\n",
       "      <td>AT-11225</td>\n",
       "      <td>2019-07-07</td>\n",
       "      <td>1</td>\n",
       "      <td>258.72</td>\n",
       "      <td>1</td>\n",
       "      <td>1</td>\n",
       "      <td>1</td>\n",
       "      <td>1</td>\n",
       "    </tr>\n",
       "    <tr>\n",
       "      <th>3</th>\n",
       "      <td>AT-3208</td>\n",
       "      <td>2018-06-25</td>\n",
       "      <td>1</td>\n",
       "      <td>236.88</td>\n",
       "      <td>1</td>\n",
       "      <td>1</td>\n",
       "      <td>1</td>\n",
       "      <td>1</td>\n",
       "    </tr>\n",
       "    <tr>\n",
       "      <th>4</th>\n",
       "      <td>AT-18812</td>\n",
       "      <td>2020-07-04</td>\n",
       "      <td>1</td>\n",
       "      <td>235.2</td>\n",
       "      <td>1</td>\n",
       "      <td>1</td>\n",
       "      <td>1</td>\n",
       "      <td>1</td>\n",
       "    </tr>\n",
       "  </tbody>\n",
       "</table>\n",
       "</div>"
      ],
      "text/plain": [
       "   Sales ID       Date  Product Name Total Revenue  Sales Location  \\\n",
       "0  AT-18056 2020-06-07             1         279.3               1   \n",
       "1   AT-9867 2019-05-14             1        263.46               1   \n",
       "2  AT-11225 2019-07-07             1        258.72               1   \n",
       "3   AT-3208 2018-06-25             1        236.88               1   \n",
       "4  AT-18812 2020-07-04             1         235.2               1   \n",
       "\n",
       "   Sales Medium Sales count Product Count  \n",
       "0             1           1             1  \n",
       "1             0           1             1  \n",
       "2             1           1             1  \n",
       "3             1           1             1  \n",
       "4             1           1             1  "
      ]
     },
     "execution_count": 22,
     "metadata": {},
     "output_type": "execute_result"
    }
   ],
   "source": [
    "df.head(5)"
   ]
  },
  {
   "cell_type": "code",
   "execution_count": 23,
   "id": "f5e42c9d",
   "metadata": {},
   "outputs": [
    {
     "data": {
      "text/plain": [
       "Index(['Sales ID', 'Date', 'Product Name', 'Total Revenue', 'Sales Location',\n",
       "       'Sales Medium', 'Sales count', 'Product Count'],\n",
       "      dtype='object')"
      ]
     },
     "execution_count": 23,
     "metadata": {},
     "output_type": "execute_result"
    }
   ],
   "source": [
    "df.columns"
   ]
  },
  {
   "cell_type": "code",
   "execution_count": 24,
   "id": "47339671",
   "metadata": {
    "scrolled": true
   },
   "outputs": [],
   "source": [
    "df.drop([\"Sales ID\" , \"Date\"] , axis = 1 , inplace = True)"
   ]
  },
  {
   "cell_type": "code",
   "execution_count": 25,
   "id": "5c48d091",
   "metadata": {},
   "outputs": [
    {
     "data": {
      "text/html": [
       "<div>\n",
       "<style scoped>\n",
       "    .dataframe tbody tr th:only-of-type {\n",
       "        vertical-align: middle;\n",
       "    }\n",
       "\n",
       "    .dataframe tbody tr th {\n",
       "        vertical-align: top;\n",
       "    }\n",
       "\n",
       "    .dataframe thead th {\n",
       "        text-align: right;\n",
       "    }\n",
       "</style>\n",
       "<table border=\"1\" class=\"dataframe\">\n",
       "  <thead>\n",
       "    <tr style=\"text-align: right;\">\n",
       "      <th></th>\n",
       "      <th>Product Name</th>\n",
       "      <th>Total Revenue</th>\n",
       "      <th>Sales Location</th>\n",
       "      <th>Sales Medium</th>\n",
       "      <th>Sales count</th>\n",
       "      <th>Product Count</th>\n",
       "    </tr>\n",
       "  </thead>\n",
       "  <tbody>\n",
       "    <tr>\n",
       "      <th>0</th>\n",
       "      <td>1</td>\n",
       "      <td>279.3</td>\n",
       "      <td>1</td>\n",
       "      <td>1</td>\n",
       "      <td>1</td>\n",
       "      <td>1</td>\n",
       "    </tr>\n",
       "    <tr>\n",
       "      <th>1</th>\n",
       "      <td>1</td>\n",
       "      <td>263.46</td>\n",
       "      <td>1</td>\n",
       "      <td>0</td>\n",
       "      <td>1</td>\n",
       "      <td>1</td>\n",
       "    </tr>\n",
       "    <tr>\n",
       "      <th>2</th>\n",
       "      <td>1</td>\n",
       "      <td>258.72</td>\n",
       "      <td>1</td>\n",
       "      <td>1</td>\n",
       "      <td>1</td>\n",
       "      <td>1</td>\n",
       "    </tr>\n",
       "    <tr>\n",
       "      <th>3</th>\n",
       "      <td>1</td>\n",
       "      <td>236.88</td>\n",
       "      <td>1</td>\n",
       "      <td>1</td>\n",
       "      <td>1</td>\n",
       "      <td>1</td>\n",
       "    </tr>\n",
       "    <tr>\n",
       "      <th>4</th>\n",
       "      <td>1</td>\n",
       "      <td>235.2</td>\n",
       "      <td>1</td>\n",
       "      <td>1</td>\n",
       "      <td>1</td>\n",
       "      <td>1</td>\n",
       "    </tr>\n",
       "  </tbody>\n",
       "</table>\n",
       "</div>"
      ],
      "text/plain": [
       "   Product Name Total Revenue  Sales Location  Sales Medium Sales count  \\\n",
       "0             1         279.3               1             1           1   \n",
       "1             1        263.46               1             0           1   \n",
       "2             1        258.72               1             1           1   \n",
       "3             1        236.88               1             1           1   \n",
       "4             1         235.2               1             1           1   \n",
       "\n",
       "  Product Count  \n",
       "0             1  \n",
       "1             1  \n",
       "2             1  \n",
       "3             1  \n",
       "4             1  "
      ]
     },
     "execution_count": 25,
     "metadata": {},
     "output_type": "execute_result"
    }
   ],
   "source": [
    "df.head(5)"
   ]
  },
  {
   "cell_type": "code",
   "execution_count": 26,
   "id": "6762c052",
   "metadata": {},
   "outputs": [],
   "source": [
    "X = df.drop([\"Sales Medium\"], axis = 1).values\n",
    "y = df[\"Sales Medium\"].values"
   ]
  },
  {
   "cell_type": "code",
   "execution_count": 27,
   "id": "1f3cd146",
   "metadata": {},
   "outputs": [
    {
     "data": {
      "text/plain": [
       "array([[1, 279.3, 1, 1, 1],\n",
       "       [1, 263.46, 1, 1, 1],\n",
       "       [1, 258.72, 1, 1, 1],\n",
       "       ...,\n",
       "       [1, 171.5, 8, 1, 1],\n",
       "       [1, 130.46, 8, 1, 1],\n",
       "       [1, 130.46, 8, 1, 1]], dtype=object)"
      ]
     },
     "execution_count": 27,
     "metadata": {},
     "output_type": "execute_result"
    }
   ],
   "source": [
    "X"
   ]
  },
  {
   "cell_type": "code",
   "execution_count": 28,
   "id": "e6fc3142",
   "metadata": {},
   "outputs": [],
   "source": [
    "from sklearn.model_selection import cross_val_score\n",
    "from sklearn.metrics import classification_report\n",
    "from sklearn.tree import DecisionTreeClassifier\n",
    "from sklearn.ensemble import RandomForestClassifier\n"
   ]
  },
  {
   "cell_type": "code",
   "execution_count": 29,
   "id": "36f6435d",
   "metadata": {},
   "outputs": [
    {
     "name": "stdout",
     "output_type": "stream",
     "text": [
      "Logistic Regression Scores: [0.65912227 0.64118134 0.63428098 0.60667955 0.6364891 ]\n",
      "Random Forest Scores: [0.85040022 0.86475297 0.81231024 0.87524151 0.87910571]\n",
      "Decision Tree Scores: [0.91388352 0.95059343 0.91940381 0.9287883  0.94755727]\n",
      "K-Nearest Neighbors Scores: [0.82583494 0.85757659 0.85233232 0.83797957 0.83908363] \n",
      "\n",
      "Mean Logistic Regression Score: 0.635550648633729\n",
      "Mean Random Forest Score: 0.8563621308308033\n",
      "Mean Decision Tree Score: 0.9320452663538503\n",
      "Mean K-Nearest Neighbors Score: 0.8425614131934861\n"
     ]
    }
   ],
   "source": [
    "# Evaluate Logistic Regression\n",
    "score_1 = cross_val_score(LogisticRegression(solver = \"liblinear\"), X, y)\n",
    "\n",
    "# Evaluate Random Forest Classifier\n",
    "score_2 = cross_val_score(RandomForestClassifier(n_estimators=45, max_depth=45), X, y)\n",
    "\n",
    "# Evaluate Decision Tree Classifier\n",
    "score_3 = cross_val_score(DecisionTreeClassifier(max_depth=45), X, y)\n",
    "\n",
    "# Evaluate K-Nearest Neighbors Classifier\n",
    "score_4 = cross_val_score(KNeighborsClassifier(n_neighbors=10), X, y)\n",
    "\n",
    "# Print the cross-validation scores for each model\n",
    "print(\"Logistic Regression Scores:\", score_1)\n",
    "print(\"Random Forest Scores:\", score_2)\n",
    "print(\"Decision Tree Scores:\", score_3)\n",
    "print(\"K-Nearest Neighbors Scores:\", score_4 , \"\\n\")\n",
    "\n",
    "\n",
    "print(\"Mean Logistic Regression Score:\", score_1.mean())\n",
    "print(\"Mean Random Forest Score:\", score_2.mean())\n",
    "print(\"Mean Decision Tree Score:\", score_3.mean())\n",
    "print(\"Mean K-Nearest Neighbors Score:\", score_4.mean())"
   ]
  },
  {
   "cell_type": "code",
   "execution_count": 30,
   "id": "d0684739",
   "metadata": {},
   "outputs": [],
   "source": [
    "## let's split the data into training and testing\n",
    "## 80% training and 20% for testing\n",
    "\n",
    "from sklearn.model_selection import train_test_split\n",
    "X_train,X_test,y_train,y_test=train_test_split(X,y,test_size=0.2,random_state=42)"
   ]
  },
  {
   "cell_type": "code",
   "execution_count": 31,
   "id": "cc5e489f",
   "metadata": {},
   "outputs": [],
   "source": [
    "from sklearn.metrics import roc_curve,auc\n",
    "# Predicting the Test set results\n",
    "from sklearn.metrics import confusion_matrix,accuracy_score\n",
    "\n",
    "def report_performance(model):\n",
    "\n",
    "    model_test = model.predict(X_test)\n",
    "\n",
    "    print(\"\\n\\nConfusion Matrix:\")\n",
    "    print(\"{0}\".format(metrics.confusion_matrix(y_test, model_test)))\n",
    "    print(\"\\n\\nClassification Report: \")\n",
    "    print(metrics.classification_report(y_test, model_test))\n",
    "    #cm = metrics.confusion_matrix(y_test, model_test)\n",
    "    plot_confusion_metrix(y_test, model_test)\n",
    "\n",
    "\n",
    "def roc_curves(model):\n",
    "    predictions_test = model.predict(X_test)\n",
    "    fpr, tpr, thresholds = roc_curve(predictions_test,y_test)\n",
    "    roc_auc = auc(fpr, tpr)\n",
    "\n",
    "    plt.figure()\n",
    "    plt.plot(fpr, tpr, color='darkorange', lw=1, label='ROC curve (area = %0.2f)' % roc_auc)\n",
    "    plt.plot([0, 1], [0, 1], color='navy', lw=2, linestyle='--')\n",
    "    plt.xlim([0.0, 1.0])\n",
    "    plt.ylim([0.0, 1.05])\n",
    "    plt.xlabel('False Positive Rate')\n",
    "    plt.ylabel('True Positive Rate')\n",
    "    plt.title('Receiver operating characteristic')\n",
    "    plt.legend(loc=\"lower right\")\n",
    "    plt.show()\n",
    "    \n",
    "def accuracy(model):\n",
    "    pred = model.predict(X_test1)\n",
    "    accu = metrics.accuracy_score(y_test,pred)\n",
    "    print(\"\\nAcuuracy Of the Model: \",accu,\"\\n\\n\")\n",
    "    total_accuracy[str((str(model).split('(')[0]))] = accu\n"
   ]
  },
  {
   "cell_type": "code",
   "execution_count": 32,
   "id": "7255cf37",
   "metadata": {},
   "outputs": [],
   "source": [
    "from sklearn import metrics\n",
    "def plot_confusion_metrix(y_test,model_test):\n",
    "    cm = metrics.confusion_matrix(y_test, model_test)\n",
    "    plt.figure(1)\n",
    "    plt.clf()\n",
    "    plt.imshow(cm, interpolation='nearest', cmap=plt.cm.Wistia)\n",
    "    classNames = ['Direct','Online']\n",
    "    plt.title('Confusion Matrix')\n",
    "    plt.ylabel('True label')\n",
    "    plt.xlabel('Predicted label')\n",
    "    tick_marks = np.arange(len(classNames))\n",
    "    plt.xticks(tick_marks, classNames)\n",
    "    plt.yticks(tick_marks, classNames)\n",
    "    s = [['TN','FP'], ['FN', 'TP']]\n",
    "    for i in range(2):\n",
    "        for j in range(2):\n",
    "            plt.text(j,i, str(s[i][j])+\" = \"+str(cm[i][j]))\n",
    "    plt.show()"
   ]
  },
  {
   "cell_type": "code",
   "execution_count": 33,
   "id": "98a0b06e",
   "metadata": {},
   "outputs": [],
   "source": [
    "from sklearn.ensemble import GradientBoostingClassifier \n",
    "from sklearn.ensemble import BaggingClassifier\n",
    "from sklearn.ensemble import StackingClassifier\n",
    "from sklearn.tree import DecisionTreeClassifier\n",
    "from sklearn.ensemble import RandomForestClassifier\n",
    "from sklearn.metrics import accuracy_score\n",
    "from sklearn.ensemble import VotingClassifier\n",
    "## supervised machine learning models \n",
    "from sklearn.neighbors import KNeighborsClassifier\n",
    "from sklearn.linear_model import LogisticRegression\n",
    "from sklearn.metrics import accuracy_score, classification_report, confusion_matrix, roc_auc_score, roc_curve, auc\n",
    "from sklearn.linear_model import LinearRegression\n"
   ]
  },
  {
   "cell_type": "markdown",
   "id": "d790d361",
   "metadata": {},
   "source": [
    "Aim is to see weather ensemble has higher accuracy than supervised machine learning or otherwise\n",
    "\n",
    "\n",
    "note: ensemble model is the combination of 2 more supervised machine learning algorithms"
   ]
  },
  {
   "cell_type": "markdown",
   "id": "b619567e",
   "metadata": {},
   "source": [
    "## for the supervised machine learning alogrithms \n",
    "1. KNN\n",
    "2. LOG\n",
    "3. GNB"
   ]
  },
  {
   "cell_type": "markdown",
   "id": "ce11c64e",
   "metadata": {},
   "source": [
    "#### KNN (K-nearest neighbor)"
   ]
  },
  {
   "cell_type": "code",
   "execution_count": 34,
   "id": "05c44346",
   "metadata": {},
   "outputs": [
    {
     "name": "stdout",
     "output_type": "stream",
     "text": [
      "Accuracy in KNN 0.8763455699696384\n"
     ]
    }
   ],
   "source": [
    "KNN_model=KNeighborsClassifier()\n",
    "KNN_model.fit(X_train,y_train)\n",
    "y_pred_test_KNN=KNN_model.predict(X_test)\n",
    "test_accuracy_KNN=accuracy_score(y_test,y_pred_test_KNN)\n",
    "print('Accuracy in KNN',test_accuracy_KNN)\n",
    "\n",
    "\n"
   ]
  },
  {
   "cell_type": "code",
   "execution_count": 35,
   "id": "9eed2ca0",
   "metadata": {},
   "outputs": [
    {
     "name": "stdout",
     "output_type": "stream",
     "text": [
      "\n",
      "\n",
      "Confusion Matrix:\n",
      "[[2011  236]\n",
      " [ 212 1164]]\n",
      "\n",
      "\n",
      "Classification Report: \n",
      "              precision    recall  f1-score   support\n",
      "\n",
      "           0       0.90      0.89      0.90      2247\n",
      "           1       0.83      0.85      0.84      1376\n",
      "\n",
      "    accuracy                           0.88      3623\n",
      "   macro avg       0.87      0.87      0.87      3623\n",
      "weighted avg       0.88      0.88      0.88      3623\n",
      "\n"
     ]
    },
    {
     "data": {
      "image/png": "[encoded data removed]",
      "text/plain": [
       "<Figure size 432x288 with 1 Axes>"
      ]
     },
     "metadata": {
      "needs_background": "light"
     },
     "output_type": "display_data"
    },
    {
     "data": {
      "image/png": "[encoded data removed]",
      "text/plain": [
       "<Figure size 432x288 with 1 Axes>"
      ]
     },
     "metadata": {
      "needs_background": "light"
     },
     "output_type": "display_data"
    }
   ],
   "source": [
    "KNN=KNeighborsClassifier()\n",
    "KNN.fit(X_train,y_train)\n",
    "report_performance(KNN)\n",
    "roc_curves(KNN)"
   ]
  },
  {
   "cell_type": "markdown",
   "id": "19b79f2e",
   "metadata": {},
   "source": [
    "#### LOG (Logistic Regression)"
   ]
  },
  {
   "cell_type": "code",
   "execution_count": 36,
   "id": "7b72ff59",
   "metadata": {},
   "outputs": [
    {
     "name": "stdout",
     "output_type": "stream",
     "text": [
      "accuracy of LOG 0.6213083080320176\n"
     ]
    }
   ],
   "source": [
    "LOG_model=LogisticRegression()\n",
    "LOG_model.fit(X_train,y_train)\n",
    "y_pred=LOG_model.predict(X_test)\n",
    "accuracy=accuracy_score(y_test,y_pred)\n",
    "print('accuracy of LOG',accuracy)\n",
    "\n"
   ]
  },
  {
   "cell_type": "code",
   "execution_count": 37,
   "id": "701bf961",
   "metadata": {},
   "outputs": [
    {
     "name": "stdout",
     "output_type": "stream",
     "text": [
      "\n",
      "\n",
      "Confusion Matrix:\n",
      "[[1552  695]\n",
      " [ 677  699]]\n",
      "\n",
      "\n",
      "Classification Report: \n",
      "              precision    recall  f1-score   support\n",
      "\n",
      "           0       0.70      0.69      0.69      2247\n",
      "           1       0.50      0.51      0.50      1376\n",
      "\n",
      "    accuracy                           0.62      3623\n",
      "   macro avg       0.60      0.60      0.60      3623\n",
      "weighted avg       0.62      0.62      0.62      3623\n",
      "\n"
     ]
    },
    {
     "data": {
      "image/png": "[encoded data removed]",
      "text/plain": [
       "<Figure size 432x288 with 1 Axes>"
      ]
     },
     "metadata": {
      "needs_background": "light"
     },
     "output_type": "display_data"
    },
    {
     "data": {
      "image/png": "[encoded data removed]",
      "text/plain": [
       "<Figure size 432x288 with 1 Axes>"
      ]
     },
     "metadata": {
      "needs_background": "light"
     },
     "output_type": "display_data"
    }
   ],
   "source": [
    "LOG=LogisticRegression()\n",
    "LOG.fit(X_train,y_train)\n",
    "report_performance(LOG)\n",
    "roc_curves(LOG)"
   ]
  },
  {
   "cell_type": "markdown",
   "id": "37cbd2ed",
   "metadata": {},
   "source": [
    "#### GNB (GaussianNB)"
   ]
  },
  {
   "cell_type": "code",
   "execution_count": 38,
   "id": "0d13f3f5",
   "metadata": {},
   "outputs": [],
   "source": [
    "from sklearn.naive_bayes import GaussianNB, BernoulliNB"
   ]
  },
  {
   "cell_type": "code",
   "execution_count": 39,
   "id": "480c8753",
   "metadata": {},
   "outputs": [
    {
     "name": "stdout",
     "output_type": "stream",
     "text": [
      "accuracy 0.71018492961634\n"
     ]
    }
   ],
   "source": [
    "# Naive Bayes algorithm\n",
    "gnb = GaussianNB()\n",
    "gnb.fit(X_train, y_train)\n",
    "\n",
    "# pred\n",
    "pred = gnb.predict(X_test)\n",
    "\n",
    "# accuracy\n",
    "accuracy = accuracy_score(pred, y_test)\n",
    "print(\"accuracy\", accuracy)\n",
    "\n"
   ]
  },
  {
   "cell_type": "code",
   "execution_count": 40,
   "id": "56889625",
   "metadata": {},
   "outputs": [
    {
     "name": "stdout",
     "output_type": "stream",
     "text": [
      "\n",
      "\n",
      "Confusion Matrix:\n",
      "[[1328  919]\n",
      " [ 131 1245]]\n",
      "\n",
      "\n",
      "Classification Report: \n",
      "              precision    recall  f1-score   support\n",
      "\n",
      "           0       0.91      0.59      0.72      2247\n",
      "           1       0.58      0.90      0.70      1376\n",
      "\n",
      "    accuracy                           0.71      3623\n",
      "   macro avg       0.74      0.75      0.71      3623\n",
      "weighted avg       0.78      0.71      0.71      3623\n",
      "\n"
     ]
    },
    {
     "data": {
      "image/png": "[encoded data removed]",
      "text/plain": [
       "<Figure size 432x288 with 1 Axes>"
      ]
     },
     "metadata": {
      "needs_background": "light"
     },
     "output_type": "display_data"
    },
    {
     "data": {
      "image/png": "[encoded data removed]",
      "text/plain": [
       "<Figure size 432x288 with 1 Axes>"
      ]
     },
     "metadata": {
      "needs_background": "light"
     },
     "output_type": "display_data"
    }
   ],
   "source": [
    "gnb = GaussianNB()\n",
    "gnb.fit(X_train,y_train)\n",
    "report_performance(gnb)\n",
    "roc_curves(gnb)"
   ]
  },
  {
   "cell_type": "markdown",
   "id": "b99ebf29",
   "metadata": {},
   "source": [
    "### graphical representation of the supervised machine learning algorithms "
   ]
  },
  {
   "cell_type": "code",
   "execution_count": 41,
   "id": "752fe744",
   "metadata": {},
   "outputs": [
    {
     "data": {
      "image/png": "[encoded data removed]",
      "text/plain": [
       "<Figure size 576x360 with 1 Axes>"
      ]
     },
     "metadata": {
      "needs_background": "light"
     },
     "output_type": "display_data"
    }
   ],
   "source": [
    "# Sample data for algorithm performance comparison\n",
    "algorithms = ['KNN_model', 'LOG_model','gaussian NB']\n",
    "accuracy_scores = [0.88,0.62,0.71]\n",
    "\n",
    "# Plotting the comparison\n",
    "plt.figure(figsize=(8, 5))\n",
    "plt.bar(algorithms, accuracy_scores, color='purple')\n",
    "plt.xlabel('Algorithms')\n",
    "plt.ylabel('Accuracy Score')\n",
    "plt.title('Comparison of supervised Machine Learning Algorithms')\n",
    "plt.ylim(0, 1)  # Set the y-axis limits between 0 and 1\n",
    "plt.xticks(rotation=45)  # Rotate x-axis labels for better readability\n",
    "\n",
    "# Display the accuracy scores on top of the bars\n",
    "for i, score in enumerate(accuracy_scores):\n",
    "    plt.text(i, score, str(score), ha='center', va='bottom')\n",
    "\n",
    "plt.tight_layout()  # Adjust the layout to prevent overlapping elements\n",
    "plt.show()\n"
   ]
  },
  {
   "cell_type": "markdown",
   "id": "3e6d7f61",
   "metadata": {},
   "source": [
    "## ensemble models \n",
    "1. gradient boosting \n",
    "2. stacking classifier \n",
    "3. Bagging classifier  "
   ]
  },
  {
   "cell_type": "markdown",
   "id": "74a824a3",
   "metadata": {},
   "source": [
    "#### gradient boosting "
   ]
  },
  {
   "cell_type": "code",
   "execution_count": 42,
   "id": "33b84917",
   "metadata": {},
   "outputs": [
    {
     "name": "stdout",
     "output_type": "stream",
     "text": [
      "Accuracy in graidentboosting classifier 0.8365995031741651\n"
     ]
    }
   ],
   "source": [
    "gbc_model=GradientBoostingClassifier()\n",
    "gbc_model.fit(X_train,y_train)\n",
    "y_pred=gbc_model.predict(X_test)\n",
    "accuracy=accuracy_score(y_test,y_pred)\n",
    "print('Accuracy in graidentboosting classifier',accuracy)\n"
   ]
  },
  {
   "cell_type": "code",
   "execution_count": 43,
   "id": "d6f4fa65",
   "metadata": {},
   "outputs": [
    {
     "name": "stdout",
     "output_type": "stream",
     "text": [
      "\n",
      "\n",
      "Confusion Matrix:\n",
      "[[1834  413]\n",
      " [ 179 1197]]\n",
      "\n",
      "\n",
      "Classification Report: \n",
      "              precision    recall  f1-score   support\n",
      "\n",
      "           0       0.91      0.82      0.86      2247\n",
      "           1       0.74      0.87      0.80      1376\n",
      "\n",
      "    accuracy                           0.84      3623\n",
      "   macro avg       0.83      0.84      0.83      3623\n",
      "weighted avg       0.85      0.84      0.84      3623\n",
      "\n"
     ]
    },
    {
     "data": {
      "image/png": "[encoded data removed]",
      "text/plain": [
       "<Figure size 432x288 with 1 Axes>"
      ]
     },
     "metadata": {
      "needs_background": "light"
     },
     "output_type": "display_data"
    },
    {
     "data": {
      "image/png": "[encoded data removed]",
      "text/plain": [
       "<Figure size 432x288 with 1 Axes>"
      ]
     },
     "metadata": {
      "needs_background": "light"
     },
     "output_type": "display_data"
    }
   ],
   "source": [
    "gbc=GradientBoostingClassifier()\n",
    "gbc.fit(X_train,y_train)\n",
    "report_performance(gbc)\n",
    "roc_curves(gbc)"
   ]
  },
  {
   "cell_type": "markdown",
   "id": "a0f5761e",
   "metadata": {},
   "source": [
    "#### Stacking classifier \n",
    "base models include \n",
    "1. DecisionTreeClassifier\n",
    "2. RandomForestClassifier \n",
    "3. LogisticRegressionClassifier\n",
    "\n",
    "note: base models are the combination of supervised machine learning models that forms stacking classifier "
   ]
  },
  {
   "cell_type": "code",
   "execution_count": 44,
   "id": "d98b75c7",
   "metadata": {},
   "outputs": [],
   "source": [
    "base_classifiers = [\n",
    "    ('decision_tree', DecisionTreeClassifier()),\n",
    "    ('random_forest', RandomForestClassifier()),\n",
    "    ('logistic_regression', LogisticRegression())\n",
    "]\n"
   ]
  },
  {
   "cell_type": "code",
   "execution_count": 45,
   "id": "10807e91",
   "metadata": {},
   "outputs": [],
   "source": [
    "stacking_classifier = StackingClassifier(\n",
    "    estimators=base_classifiers,\n",
    "    final_estimator=LogisticRegression()\n",
    ")\n"
   ]
  },
  {
   "cell_type": "code",
   "execution_count": 46,
   "id": "5e617daa",
   "metadata": {},
   "outputs": [
    {
     "name": "stdout",
     "output_type": "stream",
     "text": [
      "Accuracy in stacking classifier  0.942036985923268\n"
     ]
    }
   ],
   "source": [
    "from sklearn.metrics import accuracy_score\n",
    "stacking_classifier.fit(X_train, y_train)\n",
    "y_pred = stacking_classifier.predict(X_test)\n",
    "accuracy = accuracy_score(y_test, y_pred)\n",
    "print(\"Accuracy in stacking classifier \", accuracy)\n",
    "\n"
   ]
  },
  {
   "cell_type": "code",
   "execution_count": 47,
   "id": "318bfeab",
   "metadata": {},
   "outputs": [
    {
     "name": "stdout",
     "output_type": "stream",
     "text": [
      "\n",
      "\n",
      "Confusion Matrix:\n",
      "[[2136  111]\n",
      " [  97 1279]]\n",
      "\n",
      "\n",
      "Classification Report: \n",
      "              precision    recall  f1-score   support\n",
      "\n",
      "           0       0.96      0.95      0.95      2247\n",
      "           1       0.92      0.93      0.92      1376\n",
      "\n",
      "    accuracy                           0.94      3623\n",
      "   macro avg       0.94      0.94      0.94      3623\n",
      "weighted avg       0.94      0.94      0.94      3623\n",
      "\n"
     ]
    },
    {
     "data": {
      "image/png": "[encoded data removed]",
      "text/plain": [
       "<Figure size 432x288 with 1 Axes>"
      ]
     },
     "metadata": {
      "needs_background": "light"
     },
     "output_type": "display_data"
    },
    {
     "data": {
      "image/png": "[encoded data removed]",
      "text/plain": [
       "<Figure size 432x288 with 1 Axes>"
      ]
     },
     "metadata": {
      "needs_background": "light"
     },
     "output_type": "display_data"
    }
   ],
   "source": [
    "sc=StackingClassifier(\n",
    " estimators=base_classifiers,\n",
    "    final_estimator=LogisticRegression()\n",
    ")\n",
    "sc.fit(X_train,y_train)\n",
    "report_performance(sc)\n",
    "roc_curves(sc)"
   ]
  },
  {
   "cell_type": "markdown",
   "id": "f28f1353",
   "metadata": {},
   "source": [
    "#### Bagging classifier \n",
    "base model \n",
    "1. decision tree classifier "
   ]
  },
  {
   "cell_type": "code",
   "execution_count": 48,
   "id": "295fd322",
   "metadata": {},
   "outputs": [
    {
     "name": "stdout",
     "output_type": "stream",
     "text": [
      "Accuracy in Bagging classifier : 0.9409329285122826\n"
     ]
    }
   ],
   "source": [
    "# Create a BaggingClassifier\n",
    "base_classifier = DecisionTreeClassifier(random_state=1)\n",
    "bc = BaggingClassifier(base_classifier, n_estimators=10, random_state=1)\n",
    "\n",
    "# Fit the classifier on the training data\n",
    "bc.fit(X_train, y_train)\n",
    "# Make predictions\n",
    "y_pred = bc.predict(X_test)\n",
    "\n",
    "# Calculate accuracy score\n",
    "accuracy = accuracy_score(y_test, y_pred)\n",
    "print(\"Accuracy in Bagging classifier :\", accuracy)"
   ]
  },
  {
   "cell_type": "code",
   "execution_count": 49,
   "id": "e047255c",
   "metadata": {},
   "outputs": [
    {
     "name": "stdout",
     "output_type": "stream",
     "text": [
      "\n",
      "\n",
      "Confusion Matrix:\n",
      "[[2132  115]\n",
      " [ 107 1269]]\n",
      "\n",
      "\n",
      "Classification Report: \n",
      "              precision    recall  f1-score   support\n",
      "\n",
      "           0       0.95      0.95      0.95      2247\n",
      "           1       0.92      0.92      0.92      1376\n",
      "\n",
      "    accuracy                           0.94      3623\n",
      "   macro avg       0.93      0.94      0.94      3623\n",
      "weighted avg       0.94      0.94      0.94      3623\n",
      "\n"
     ]
    },
    {
     "data": {
      "image/png": "[encoded data removed]",
      "text/plain": [
       "<Figure size 432x288 with 1 Axes>"
      ]
     },
     "metadata": {
      "needs_background": "light"
     },
     "output_type": "display_data"
    },
    {
     "data": {
      "image/png": "[encoded data removed]",
      "text/plain": [
       "<Figure size 432x288 with 1 Axes>"
      ]
     },
     "metadata": {
      "needs_background": "light"
     },
     "output_type": "display_data"
    }
   ],
   "source": [
    "# ... (previous code for dataset, classifier, predictions, etc.)\n",
    "\n",
    "bc=BaggingClassifier(base_classifier, n_estimators=10, random_state=42)\n",
    "bc.fit(X_train,y_train)\n",
    "report_performance(bc)\n",
    "roc_curves(bc)\n"
   ]
  },
  {
   "cell_type": "markdown",
   "id": "ea2cfc51",
   "metadata": {},
   "source": [
    "#### graphical representation of the ensemble algorithm"
   ]
  },
  {
   "cell_type": "code",
   "execution_count": 50,
   "id": "d314e6b4",
   "metadata": {},
   "outputs": [
    {
     "data": {
      "image/png": "[encoded data removed]",
      "text/plain": [
       "<Figure size 576x360 with 1 Axes>"
      ]
     },
     "metadata": {
      "needs_background": "light"
     },
     "output_type": "display_data"
    }
   ],
   "source": [
    "# Sample data for algorithm performance comparison\n",
    "algorithms = ['gradient boosting', 'Stacking classifier','Bagging classifier']\n",
    "accuracy_scores = [0.84,0.94,0.94]\n",
    "\n",
    "# Plotting the comparison\n",
    "plt.figure(figsize=(8, 5))\n",
    "plt.bar(algorithms, accuracy_scores, color='yellow')\n",
    "plt.xlabel('Algorithms')\n",
    "plt.ylabel('Accuracy Score')\n",
    "plt.title('Comparison of ensemble Algorithms')\n",
    "plt.ylim(0, 1)  # Set the y-axis limits between 0 and 1\n",
    "plt.xticks(rotation=45)  # Rotate x-axis labels for better readability\n",
    "\n",
    "# Display the accuracy scores on top of the bars\n",
    "for i, score in enumerate(accuracy_scores):\n",
    "    plt.text(i, score, str(score), ha='center', va='bottom')\n",
    "\n",
    "plt.tight_layout()  # Adjust the layout to prevent overlapping elements\n",
    "plt.show()\n"
   ]
  },
  {
   "cell_type": "markdown",
   "id": "2e1710f3",
   "metadata": {},
   "source": [
    "### comparsion of both the supervised machine learning algorithm and ensemble algorithms "
   ]
  },
  {
   "cell_type": "code",
   "execution_count": 51,
   "id": "ba05058b",
   "metadata": {},
   "outputs": [
    {
     "data": {
      "image/png": "[encoded data removed]",
      "text/plain": [
       "<Figure size 576x360 with 1 Axes>"
      ]
     },
     "metadata": {
      "needs_background": "light"
     },
     "output_type": "display_data"
    }
   ],
   "source": [
    "# Sample data for algorithm performance comparison\n",
    "algorithms = ['gradient boosting', 'Stacking classifier','Bagging classifier','KNN_model', 'LOG_model','gaussian NB']\n",
    "accuracy_scores = [0.84,0.94,0.94,0.88,0.62,0.71]\n",
    "\n",
    "# Plotting the comparison\n",
    "plt.figure(figsize=(8, 5))\n",
    "plt.bar(algorithms, accuracy_scores, color='blue')\n",
    "plt.xlabel('Algorithms')\n",
    "plt.ylabel('Accuracy Score')\n",
    "plt.title('Comparison of ensemble Algorithms and supervised machine learning algorithms')\n",
    "plt.ylim(0, 1)  # Set the y-axis limits between 0 and 1\n",
    "plt.xticks(rotation=45)  # Rotate x-axis labels for better readability\n",
    "\n",
    "# Display the accuracy scores on top of the bars\n",
    "for i, score in enumerate(accuracy_scores):\n",
    "    plt.text(i, score, str(score), ha='center', va='bottom')\n",
    "\n",
    "plt.tight_layout()  # Adjust the layout to prevent overlapping elements\n",
    "plt.show()\n"
   ]
  }
 ],
 "metadata": {
  "kernelspec": {
   "display_name": "Python 3 (ipykernel)",
   "language": "python",
   "name": "python3"
  },
  "language_info": {
   "codemirror_mode": {
    "name": "ipython",
    "version": 3
   },
   "file_extension": ".py",
   "mimetype": "text/x-python",
   "name": "python",
   "nbconvert_exporter": "python",
   "pygments_lexer": "ipython3",
   "version": "3.10.2"
  }
 },
 "nbformat": 4,
 "nbformat_minor": 5
}
